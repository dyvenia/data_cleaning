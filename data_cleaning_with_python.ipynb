{
 "cells": [
  {
   "cell_type": "markdown",
   "metadata": {
    "id": "QNIdiGfl7W3U"
   },
   "source": [
    "## Data Cleaning with Python\n",
    "\n",
    "by: Serhii Viskushenko"
   ]
  },
  {
   "cell_type": "markdown",
   "metadata": {
    "id": "rDIALHauqzGu"
   },
   "source": [
    "## Load libraries"
   ]
  },
  {
   "cell_type": "code",
   "execution_count": 1,
   "metadata": {
    "id": "MY3TiCty7uVP"
   },
   "outputs": [
    {
     "ename": "ModuleNotFoundError",
     "evalue": "No module named 'seaborn'",
     "output_type": "error",
     "traceback": [
      "\u001b[0;31m---------------------------------------------------------------------------\u001b[0m",
      "\u001b[0;31mModuleNotFoundError\u001b[0m                       Traceback (most recent call last)",
      "Cell \u001b[0;32mIn [1], line 4\u001b[0m\n\u001b[1;32m      2\u001b[0m \u001b[38;5;28;01mimport\u001b[39;00m \u001b[38;5;21;01mnumpy\u001b[39;00m \u001b[38;5;28;01mas\u001b[39;00m \u001b[38;5;21;01mnp\u001b[39;00m\n\u001b[1;32m      3\u001b[0m \u001b[38;5;28;01mimport\u001b[39;00m \u001b[38;5;21;01mmatplotlib\u001b[39;00m\u001b[38;5;21;01m.\u001b[39;00m\u001b[38;5;21;01mpyplot\u001b[39;00m \u001b[38;5;28;01mas\u001b[39;00m \u001b[38;5;21;01mplt\u001b[39;00m\n\u001b[0;32m----> 4\u001b[0m \u001b[38;5;28;01mimport\u001b[39;00m \u001b[38;5;21;01mseaborn\u001b[39;00m \u001b[38;5;28;01mas\u001b[39;00m \u001b[38;5;21;01msns\u001b[39;00m\n\u001b[1;32m      6\u001b[0m \u001b[38;5;66;03m# make plot show up without plt.show()\u001b[39;00m\n\u001b[1;32m      7\u001b[0m get_ipython()\u001b[38;5;241m.\u001b[39mrun_line_magic(\u001b[38;5;124m'\u001b[39m\u001b[38;5;124mmatplotlib\u001b[39m\u001b[38;5;124m'\u001b[39m, \u001b[38;5;124m'\u001b[39m\u001b[38;5;124minline\u001b[39m\u001b[38;5;124m'\u001b[39m)\n",
      "\u001b[0;31mModuleNotFoundError\u001b[0m: No module named 'seaborn'"
     ]
    }
   ],
   "source": [
    "import pandas as pd\n",
    "import numpy as np\n",
    "import matplotlib.pyplot as plt\n",
    "import seaborn as sns\n",
    "\n",
    "# make plot show up without plt.show()\n",
    "%matplotlib inline\n",
    "\n",
    "# plot configurations\n",
    "plt.rcParams[\"figure.figsize\"] = (10, 8) \n",
    "plt.style.use('fivethirtyeight')\n",
    "\n",
    "# date time library\n",
    "import datetime as dt"
   ]
  },
  {
   "cell_type": "markdown",
   "metadata": {
    "id": "cU1SjmwuzUU5"
   },
   "source": [
    "## Helper functions"
   ]
  },
  {
   "cell_type": "code",
   "execution_count": null,
   "metadata": {
    "id": "UlXnUV9Wy0OK"
   },
   "outputs": [],
   "source": [
    "def missing_cols(df):\n",
    "    '''\n",
    "    prints out columns with its amount of missing values with its %\n",
    "\n",
    "    eg. column_A => 100 [10%]\n",
    "    \n",
    "    the above means column_A has 100 missing values, 10% of the entire column \n",
    "    '''\n",
    "\n",
    "    total = 0\n",
    "    for col in df.columns:\n",
    "        missing_vals = df[col].isnull().sum()\n",
    "        # mean = sum / total\n",
    "        pct = df[col].isnull().mean() * 100 \n",
    "        if missing_vals != 0:\n",
    "          print('{} => {} [{}%]'.format(col, df[col].isnull().sum(), round(pct, 2)))\n",
    "        total += missing_vals\n",
    "    \n",
    "    if total == 0:\n",
    "        print(\"no missing values left 🎉 \")\n",
    "\n",
    "def get_memory(df):\n",
    "  \"\"\" prints out size of data frame in MB \"\"\"\n",
    "  print(f\"{round(df.memory_usage().sum() / 1000000, 2)} MB\")"
   ]
  },
  {
   "cell_type": "markdown",
   "metadata": {
    "id": "qnGfIdZqq3KF"
   },
   "source": [
    "## Load data"
   ]
  },
  {
   "cell_type": "code",
   "execution_count": null,
   "metadata": {
    "id": "Tr3ZGVo7vu3a"
   },
   "outputs": [],
   "source": [
    "# data from github repo: https://github.com/dyvenia/data_cleaning\n",
    "url = 'https://raw.githubusercontent.com/dyvenia/data_cleaning/main/dataset.csv'\n",
    "\n",
    "df = pd.read_csv(url)"
   ]
  },
  {
   "cell_type": "markdown",
   "metadata": {
    "id": "aRqQRaKTq4Y2",
    "tags": []
   },
   "source": [
    "### data frame shape \n"
   ]
  },
  {
   "cell_type": "code",
   "execution_count": null,
   "metadata": {
    "colab": {
     "base_uri": "https://localhost:8080/"
    },
    "id": "TOND6uRpT-PF",
    "outputId": "0abda99f-0cb3-48bc-f9df-67c2f460c51c"
   },
   "outputs": [],
   "source": [
    "df.shape # (no. of rows, no. of columns)"
   ]
  },
  {
   "cell_type": "markdown",
   "metadata": {
    "id": "D7nH_as11OaG"
   },
   "source": [
    "### data frame summary"
   ]
  },
  {
   "cell_type": "code",
   "execution_count": null,
   "metadata": {
    "colab": {
     "base_uri": "https://localhost:8080/"
    },
    "id": "qGSud0K31NWM",
    "outputId": "76ff36ea-c62a-4026-8b8d-5d227daff414"
   },
   "outputs": [],
   "source": [
    "df.info()"
   ]
  },
  {
   "cell_type": "markdown",
   "metadata": {
    "id": "YsJJwoxuSGGb"
   },
   "source": [
    "### data frame data types"
   ]
  },
  {
   "cell_type": "code",
   "execution_count": null,
   "metadata": {
    "colab": {
     "base_uri": "https://localhost:8080/"
    },
    "id": "gL1MHJNm13VG",
    "outputId": "028fa2f4-9e6e-464f-c7cb-993486fda4c4"
   },
   "outputs": [],
   "source": [
    "df.dtypes"
   ]
  },
  {
   "cell_type": "markdown",
   "metadata": {
    "id": "eQROr2FMsy5t"
   },
   "source": [
    "### First 5 rows of data"
   ]
  },
  {
   "cell_type": "code",
   "execution_count": null,
   "metadata": {
    "colab": {
     "base_uri": "https://localhost:8080/",
     "height": 464
    },
    "id": "TeSPCN8QrFcP",
    "outputId": "39f942ad-f44c-497c-a449-57950c6ff40c"
   },
   "outputs": [],
   "source": [
    "df.head()"
   ]
  },
  {
   "cell_type": "markdown",
   "metadata": {
    "id": "224xqj_zlQDX"
   },
   "source": [
    "### First row of data"
   ]
  },
  {
   "cell_type": "code",
   "execution_count": null,
   "metadata": {
    "colab": {
     "base_uri": "https://localhost:8080/",
     "height": 272
    },
    "id": "xBIJrpFkh3Bz",
    "outputId": "98d8846f-622b-49ba-dfeb-7eafbc68ee00"
   },
   "outputs": [],
   "source": [
    "df.head(n=1)"
   ]
  },
  {
   "cell_type": "markdown",
   "metadata": {
    "id": "p7lzC3RP2JIx"
   },
   "source": [
    "### Last five rows of data"
   ]
  },
  {
   "cell_type": "code",
   "execution_count": null,
   "metadata": {
    "colab": {
     "base_uri": "https://localhost:8080/",
     "height": 516
    },
    "id": "b1KxzMxD0i8I",
    "outputId": "70f58600-72b3-49ee-a78d-c56f465a748b"
   },
   "outputs": [],
   "source": [
    "df.tail()"
   ]
  },
  {
   "cell_type": "markdown",
   "metadata": {
    "id": "ICmjbOlN1HeM"
   },
   "source": [
    "### Randomly sample rows"
   ]
  },
  {
   "cell_type": "code",
   "execution_count": null,
   "metadata": {
    "colab": {
     "base_uri": "https://localhost:8080/",
     "height": 516
    },
    "id": "i3yP7FR50KdZ",
    "outputId": "7b6c9eb3-a3ea-4350-b191-11355cb2c4d4"
   },
   "outputs": [],
   "source": [
    "df.sample(n = 5)"
   ]
  },
  {
   "cell_type": "markdown",
   "metadata": {
    "id": "rv4r9ebssu7k"
   },
   "source": [
    "## Rename columns"
   ]
  },
  {
   "cell_type": "code",
   "execution_count": null,
   "metadata": {
    "colab": {
     "base_uri": "https://localhost:8080/"
    },
    "id": "AzpGRpLSrH5V",
    "outputId": "c4062234-3279-498c-8cb7-5f2477236c08"
   },
   "outputs": [],
   "source": [
    "# show columns of dataframe\n",
    "df.columns"
   ]
  },
  {
   "cell_type": "code",
   "execution_count": null,
   "metadata": {
    "colab": {
     "base_uri": "https://localhost:8080/"
    },
    "id": "c1mUuiiL23m-",
    "outputId": "80e37819-a8c1-4ec1-b8b4-d335a3b41dc4"
   },
   "outputs": [],
   "source": [
    "df.columns.to_list() # turn into list"
   ]
  },
  {
   "cell_type": "markdown",
   "metadata": {
    "id": "3RTkBBQD7bM4"
   },
   "source": [
    "### string methods"
   ]
  },
  {
   "cell_type": "code",
   "execution_count": null,
   "metadata": {
    "colab": {
     "base_uri": "https://localhost:8080/"
    },
    "id": "ZcEfyftBtW1L",
    "outputId": "b09d1e6d-dcce-4b86-dcdd-abae387703f9"
   },
   "outputs": [],
   "source": [
    "# replace whitespace with underscore '_'\n",
    "df.columns = df.columns.str.replace(' ', \"_\")\n",
    "\n",
    "# lower case column names\n",
    "df.columns = df.columns.str.lower() \n",
    "\n",
    "df.columns"
   ]
  },
  {
   "cell_type": "markdown",
   "metadata": {
    "id": "MxqIUh3c7eBn"
   },
   "source": [
    "### pandas rename"
   ]
  },
  {
   "cell_type": "code",
   "execution_count": null,
   "metadata": {
    "colab": {
     "base_uri": "https://localhost:8080/"
    },
    "id": "_-U4o250tGAL",
    "outputId": "db038763-aa03-458f-b017-9c1e5de43934"
   },
   "outputs": [],
   "source": [
    "# {'original_name' : 'new_name'}\n",
    "new_names = {'name':'listing_name', \n",
    "             'latitude':'lat', \n",
    "             'longitude':'long'}\n",
    "\n",
    "df.rename(columns = new_names).columns # only returning output\n",
    "\n",
    "# without inplace=True, not updating our dataframe\n",
    "df.columns"
   ]
  },
  {
   "cell_type": "markdown",
   "metadata": {
    "id": "gwSif4Vr7h_e"
   },
   "source": [
    "### inplace = True\n",
    "\n",
    "- updates the data frame itself instead of returning an output"
   ]
  },
  {
   "cell_type": "code",
   "execution_count": null,
   "metadata": {
    "colab": {
     "base_uri": "https://localhost:8080/"
    },
    "id": "KQdWE2D9xD7Q",
    "outputId": "34668d61-fe3e-42f6-f7d9-8266066407c1"
   },
   "outputs": [],
   "source": [
    "df.rename(columns = new_names, inplace = True)\n",
    "df.columns"
   ]
  },
  {
   "cell_type": "markdown",
   "metadata": {
    "id": "xw3pKMAaBtul"
   },
   "source": [
    "A cool library for data cleaning is pyjanitor which provides easy implementations for many data cleaning tasks, check it out [here](https://pyjanitor.readthedocs.io/)"
   ]
  },
  {
   "cell_type": "markdown",
   "metadata": {
    "id": "mkvN-xoLydRd"
   },
   "source": [
    "## Remove labels from values\n",
    "\n",
    "- dollar sign -> Mixture of string and integer\n",
    "- cause problems when filling in missing values or converting data types\n",
    "- remove dollar sign and labels similar\n",
    "\n"
   ]
  },
  {
   "cell_type": "code",
   "execution_count": null,
   "metadata": {
    "colab": {
     "base_uri": "https://localhost:8080/"
    },
    "id": "NshgknrzkmYE",
    "outputId": "bf74dae5-9302-458f-b936-df32b166058d"
   },
   "outputs": [],
   "source": [
    "# grab the price column\n",
    "df['price']"
   ]
  },
  {
   "cell_type": "code",
   "execution_count": null,
   "metadata": {
    "colab": {
     "base_uri": "https://localhost:8080/"
    },
    "id": "FXEyBl9FydFm",
    "outputId": "84d74da9-9818-44a2-d1f3-b64f492e3c7e"
   },
   "outputs": [],
   "source": [
    "df['price'] = df['price'].str.replace(\"$\", \"\")\n",
    "df['price'].head(3)"
   ]
  },
  {
   "cell_type": "code",
   "execution_count": null,
   "metadata": {
    "colab": {
     "base_uri": "https://localhost:8080/"
    },
    "id": "CUu8PJSPJatP",
    "outputId": "dadf4026-8982-4117-df47-c8cb30abecc9"
   },
   "outputs": [],
   "source": [
    "# check price column data type\n",
    "df['price'].dtype"
   ]
  },
  {
   "cell_type": "markdown",
   "metadata": {
    "id": "S3rssiXpJcjv",
    "tags": []
   },
   "source": [
    "## Converting data types\n",
    "\n",
    "![dtypes](https://external-content.duckduckgo.com/iu/?u=https%3A%2F%2Fcdn-images-1.medium.com%2Fmax%2F2000%2F1*wrXMq7iTWih7lsBBRQFxXg.png&f=1&nofb=1)\n",
    "\n",
    "[Overview here](https://pbpython.com/pandas_dtypes.html)"
   ]
  },
  {
   "cell_type": "markdown",
   "metadata": {
    "id": "r7HsAlNPT8Ym"
   },
   "source": [
    "### Converting to numeric"
   ]
  },
  {
   "cell_type": "code",
   "execution_count": null,
   "metadata": {
    "colab": {
     "base_uri": "https://localhost:8080/"
    },
    "id": "-WGXOfXdJhpf",
    "outputId": "cf8fec81-73b9-423c-f8a0-67ec4d01f3ec"
   },
   "outputs": [],
   "source": [
    "df['price'] = pd.to_numeric(df['price'])\n",
    "df['price'].dtype"
   ]
  },
  {
   "cell_type": "code",
   "execution_count": null,
   "metadata": {
    "colab": {
     "base_uri": "https://localhost:8080/",
     "height": 134
    },
    "id": "3RsfaehAm-U1",
    "outputId": "b383b099-c302-4eb9-9b58-7a47ed327b9f"
   },
   "outputs": [],
   "source": [
    "df.head(1)"
   ]
  },
  {
   "cell_type": "code",
   "execution_count": null,
   "metadata": {
    "colab": {
     "base_uri": "https://localhost:8080/"
    },
    "id": "wRM5ckGF9j52",
    "outputId": "90905b7a-c209-40c1-8dc8-a7019443b24e"
   },
   "outputs": [],
   "source": [
    "# view dtype of all columns\n",
    "df.dtypes"
   ]
  },
  {
   "cell_type": "markdown",
   "metadata": {
    "id": "K-Ez79xJUQq5"
   },
   "source": [
    "### Convert to category\n",
    "\n",
    "- `neighbourhood_group`\n",
    "- `neighbourhood`\n",
    "- `room_type`\n",
    "\n",
    "Guidelines for conversion\n",
    "- to reduce memory and increase performance with operations related to categorical data\n",
    "- make sure data is clean before converting it\n",
    "\n",
    "[More on this](https://pbpython.com/pandas_dtypes_cat.html)"
   ]
  },
  {
   "cell_type": "code",
   "execution_count": null,
   "metadata": {
    "colab": {
     "base_uri": "https://localhost:8080/"
    },
    "id": "1a-ZFG9gVwWp",
    "outputId": "af235688-5108-4d55-d4f8-d0cb89fb6fac"
   },
   "outputs": [],
   "source": [
    "# check unique values in categorical column\n",
    "df['neighbourhood_group'].unique()"
   ]
  },
  {
   "cell_type": "code",
   "execution_count": null,
   "metadata": {
    "colab": {
     "base_uri": "https://localhost:8080/"
    },
    "id": "rylmsc8TV--f",
    "outputId": "b4901b38-38e1-469d-d4f9-ca2100974fe7"
   },
   "outputs": [],
   "source": [
    "# show amount of categories in column\n",
    "len(df['neighbourhood'].unique())"
   ]
  },
  {
   "cell_type": "code",
   "execution_count": null,
   "metadata": {
    "colab": {
     "base_uri": "https://localhost:8080/"
    },
    "id": "NvIgpAc_WBfY",
    "outputId": "9da5fdca-1495-40fa-b4c7-0185db4299e9"
   },
   "outputs": [],
   "source": [
    "df['room_type'].unique()"
   ]
  },
  {
   "cell_type": "code",
   "execution_count": null,
   "metadata": {
    "colab": {
     "base_uri": "https://localhost:8080/"
    },
    "id": "SxpBjB17WEex",
    "outputId": "68e395a8-93ff-40e0-d4d1-a4c63354af09"
   },
   "outputs": [],
   "source": [
    "get_memory(df)"
   ]
  },
  {
   "cell_type": "code",
   "execution_count": null,
   "metadata": {
    "id": "7ftAbmnHWDhn"
   },
   "outputs": [],
   "source": [
    "# for categorical data with small amounts of categories, converting them to \n",
    "# dtype category can save memory and make some operations more efficient \n",
    "\n",
    "df['room_type'] = df['room_type'].astype('category')"
   ]
  },
  {
   "cell_type": "code",
   "execution_count": null,
   "metadata": {
    "colab": {
     "base_uri": "https://localhost:8080/"
    },
    "id": "IzLjlr3Vn7lo",
    "outputId": "2817fcb9-12db-4df6-94e8-c79e6b54475f"
   },
   "outputs": [],
   "source": [
    "df['room_type'].dtype"
   ]
  },
  {
   "cell_type": "code",
   "execution_count": null,
   "metadata": {
    "colab": {
     "base_uri": "https://localhost:8080/"
    },
    "id": "3Q2DRCaLWQvR",
    "outputId": "3fc03b0e-f743-4948-e78e-ef2c2cea46be"
   },
   "outputs": [],
   "source": [
    "df['room_type'].unique()"
   ]
  },
  {
   "cell_type": "code",
   "execution_count": null,
   "metadata": {
    "colab": {
     "base_uri": "https://localhost:8080/"
    },
    "id": "wAJdthzvWStD",
    "outputId": "1fe707b9-c803-4be2-db5a-5724a4fd951f"
   },
   "outputs": [],
   "source": [
    "get_memory(df)"
   ]
  },
  {
   "cell_type": "markdown",
   "metadata": {
    "id": "N2xWoHsmW0ii"
   },
   "source": [
    "### Convert to datetime "
   ]
  },
  {
   "cell_type": "code",
   "execution_count": null,
   "metadata": {
    "colab": {
     "base_uri": "https://localhost:8080/"
    },
    "id": "9ZCa4f-vW01Z",
    "outputId": "fe596587-8ab1-417b-99d4-d6e69fcc52e3"
   },
   "outputs": [],
   "source": [
    "df['last_review'].head(3)"
   ]
  },
  {
   "cell_type": "code",
   "execution_count": null,
   "metadata": {
    "colab": {
     "base_uri": "https://localhost:8080/"
    },
    "id": "9ra-p4VkW9H2",
    "outputId": "ed393fab-6096-44db-f184-29c573a7c12c"
   },
   "outputs": [],
   "source": [
    "df['last_review'] = pd.to_datetime(df['last_review'], format = \"%Y-%m-%d\")\n",
    "df['last_review'].dtype"
   ]
  },
  {
   "cell_type": "markdown",
   "metadata": {
    "id": "JdEe7hDl6-KW"
   },
   "source": [
    "Refer to https://strftime.org/ for a list of date formats"
   ]
  },
  {
   "cell_type": "code",
   "execution_count": null,
   "metadata": {
    "colab": {
     "base_uri": "https://localhost:8080/"
    },
    "id": "fvyzwQxvW_S6",
    "outputId": "75f8c7eb-249a-4700-91c1-d1371835577f"
   },
   "outputs": [],
   "source": [
    "df.dtypes"
   ]
  },
  {
   "cell_type": "code",
   "execution_count": null,
   "metadata": {
    "colab": {
     "base_uri": "https://localhost:8080/"
    },
    "id": "RDAyDuGyY0BX",
    "outputId": "5feb0ad5-e9f9-4313-cd7a-08a8e3e59c4f"
   },
   "outputs": [],
   "source": [
    "df['last_review'].head(3)"
   ]
  },
  {
   "cell_type": "markdown",
   "metadata": {
    "id": "CECVg8UcXIM1"
   },
   "source": [
    "### Changing numeric types\n",
    "\n",
    "ex: changing int types (int8 | int16 | int32 | int64)\n",
    "\n",
    "- the numbers stands for bit\n",
    "- int8 can store integers from -128 to 127.\n",
    "- int16 can store integers from -32768 to 32767.\n",
    "- int64 can store integers from -9223372036854775808 to 9223372036854775807."
   ]
  },
  {
   "cell_type": "code",
   "execution_count": null,
   "metadata": {
    "colab": {
     "base_uri": "https://localhost:8080/"
    },
    "id": "RMfY9ASzXN7C",
    "outputId": "f9344306-ae8f-4195-baab-d08d38c1cc2c"
   },
   "outputs": [],
   "source": [
    "# get maximum from column\n",
    "df['minimum_nights'].max()"
   ]
  },
  {
   "cell_type": "code",
   "execution_count": null,
   "metadata": {
    "colab": {
     "base_uri": "https://localhost:8080/"
    },
    "id": "Am-7WBcioHSr",
    "outputId": "31ae4260-acf9-4209-eec4-873591db0eb7"
   },
   "outputs": [],
   "source": [
    "# get minimum from column\n",
    "df['minimum_nights'].min()"
   ]
  },
  {
   "cell_type": "code",
   "execution_count": null,
   "metadata": {
    "colab": {
     "base_uri": "https://localhost:8080/"
    },
    "id": "Nm-jBdCNXu0X",
    "outputId": "e9edae3d-ba7c-41de-8931-bb4c18f09dfb"
   },
   "outputs": [],
   "source": [
    "df['minimum_nights'].dtype"
   ]
  },
  {
   "cell_type": "code",
   "execution_count": null,
   "metadata": {
    "colab": {
     "base_uri": "https://localhost:8080/"
    },
    "id": "gKOJXk1tXrxH",
    "outputId": "454b40b7-52e8-44df-b459-1dce4c22a947"
   },
   "outputs": [],
   "source": [
    "get_memory(df)"
   ]
  },
  {
   "cell_type": "code",
   "execution_count": null,
   "metadata": {
    "colab": {
     "base_uri": "https://localhost:8080/"
    },
    "id": "z_rvRWciXnlX",
    "outputId": "c38bb6ad-c55a-4490-c134-f4b83468c706"
   },
   "outputs": [],
   "source": [
    "df['minimum_nights'] = df['minimum_nights'].astype('int16')\n",
    "df['minimum_nights'].dtype"
   ]
  },
  {
   "cell_type": "code",
   "execution_count": null,
   "metadata": {
    "colab": {
     "base_uri": "https://localhost:8080/"
    },
    "id": "I4mQDpNPXtzI",
    "outputId": "ad5a8709-5ca4-4fa2-dae5-99c99d89eabb"
   },
   "outputs": [],
   "source": [
    "get_memory(df)"
   ]
  },
  {
   "cell_type": "markdown",
   "metadata": {
    "id": "8diBhfloR-PO"
   },
   "source": [
    "## Missing data"
   ]
  },
  {
   "cell_type": "markdown",
   "metadata": {
    "id": "6SZHaxDq514h"
   },
   "source": [
    "### Checking which columns have missing data"
   ]
  },
  {
   "cell_type": "code",
   "execution_count": null,
   "metadata": {
    "colab": {
     "base_uri": "https://localhost:8080/",
     "height": 222
    },
    "id": "CeWJizLm0tJD",
    "outputId": "8085b428-056b-413e-b83d-03fc4bbe237e"
   },
   "outputs": [],
   "source": [
    "df.isnull().head()"
   ]
  },
  {
   "cell_type": "markdown",
   "metadata": {
    "id": "mBuixie550PE"
   },
   "source": [
    "### summing the missing values"
   ]
  },
  {
   "cell_type": "code",
   "execution_count": null,
   "metadata": {
    "colab": {
     "base_uri": "https://localhost:8080/"
    },
    "id": "6-U38oSr1fkA",
    "outputId": "c2355cdb-c57d-4309-a746-29bf8535496d"
   },
   "outputs": [],
   "source": [
    "# True = 1, False = 0\n",
    "df.isnull().sum()"
   ]
  },
  {
   "cell_type": "markdown",
   "metadata": {
    "id": "BCXNOb5P5yJ1"
   },
   "source": [
    "### percentage of missing data"
   ]
  },
  {
   "cell_type": "code",
   "execution_count": null,
   "metadata": {
    "colab": {
     "base_uri": "https://localhost:8080/"
    },
    "id": "FxubuiY-4uyk",
    "outputId": "369e659d-65b0-4c03-da1e-506ce9222a1c"
   },
   "outputs": [],
   "source": [
    "missing_cols(df)"
   ]
  },
  {
   "cell_type": "code",
   "execution_count": null,
   "metadata": {
    "colab": {
     "base_uri": "https://localhost:8080/",
     "height": 404
    },
    "id": "cpepkgCG5qHL",
    "outputId": "c12f652f-5a73-4c3c-f5b6-49d5a5dc67fc"
   },
   "outputs": [],
   "source": [
    "sns.heatmap(df.isnull(), yticklabels=False, cmap='viridis', cbar=False);"
   ]
  },
  {
   "cell_type": "markdown",
   "metadata": {
    "id": "yhgUL5yW7K8n"
   },
   "source": [
    "### How to deal with missing data?\n",
    "\n",
    "Dealing with missing data is not simple task, you have need to consider why the data is missing in the first place, and domain knowledge to know what to impute. \n",
    "\n",
    "There also isn't a specific threshold for what percentage of missing data is accepted, it depends on the data.\n",
    "\n",
    "If you mess it up, you will introduce bias to your data.  \n",
    "\n",
    "\n",
    "#### Techniques \n",
    "1. Drop feature \n",
    "1. Drop the rows\n",
    "1. Impute missing values (manually or automatically)\n",
    "\n",
    "More information\n",
    "- Read this [article](https://towardsdatascience.com/how-to-handle-missing-data-8646b18db0d4) to go deeper into this topic\n",
    "\n",
    "- A paper on \"The prevention and handling of the missing data\" ([Link](https://www.ncbi.nlm.nih.gov/pmc/articles/PMC3668100/))"
   ]
  },
  {
   "cell_type": "code",
   "execution_count": null,
   "metadata": {
    "id": "kgqwkvE8yAS7"
   },
   "outputs": [],
   "source": [
    "# copying original data set is good practice when you're experimenting with things\n",
    "# so you don't have to run all the cells before when you mess up something\n",
    "\n",
    "df_ori = df.copy()"
   ]
  },
  {
   "cell_type": "markdown",
   "metadata": {
    "id": "clL4rrdm3pjq"
   },
   "source": [
    "#### Dropping columns with missing values\n",
    "\n",
    "- usually worst strategy unless it has a lot of missing data (over 80 or 90%), or feature is not useful"
   ]
  },
  {
   "cell_type": "code",
   "execution_count": null,
   "metadata": {
    "id": "tqudL93ZF_La"
   },
   "outputs": [],
   "source": [
    "# Create list of columns you want to drop\n",
    "colsToDrop = ['id','host_name','host_id']\n",
    "\n",
    "# axis = 1 / 'columns' stands for column\n",
    "# axis = 0 / 'index' stands for row\n",
    "df.drop(colsToDrop, axis = 'columns', inplace = True)"
   ]
  },
  {
   "cell_type": "code",
   "execution_count": null,
   "metadata": {
    "colab": {
     "base_uri": "https://localhost:8080/"
    },
    "id": "FCy89KB8DDGy",
    "outputId": "a1640f32-8c99-421c-92c4-fc03e1f2ebe3"
   },
   "outputs": [],
   "source": [
    "missing_cols(df)"
   ]
  },
  {
   "cell_type": "code",
   "execution_count": null,
   "metadata": {
    "colab": {
     "base_uri": "https://localhost:8080/"
    },
    "id": "bzHz3X0REVt6",
    "outputId": "4de70ccd-0548-4763-9517-16ab2f5bc450"
   },
   "outputs": [],
   "source": [
    "print(df.shape)"
   ]
  },
  {
   "cell_type": "markdown",
   "metadata": {
    "id": "Adv4-ZqH8w3T"
   },
   "source": [
    "#### Remove rows with missing values\n",
    "- Losing even more information (from other columns), so not the best method"
   ]
  },
  {
   "cell_type": "code",
   "execution_count": null,
   "metadata": {
    "colab": {
     "base_uri": "https://localhost:8080/"
    },
    "id": "eJgf68aiR-9Z",
    "outputId": "ea8f4c86-aaf5-4154-891f-82f27966c483"
   },
   "outputs": [],
   "source": [
    "print(df.shape) \n",
    "print(df.dropna().shape)"
   ]
  },
  {
   "cell_type": "markdown",
   "metadata": {
    "id": "Lhu8RMKg80Bb"
   },
   "source": [
    "#### Impute missing values\n",
    "\n",
    "\n",
    "- A constant value related to the data, such as 0 for `number_of_reviews`, or \"None\" for `listing_name`.\n",
    "- The value before or after the data point (backward fill, forward fill)\n",
    "- Summary statistics such as mean, median or mode value for the column.\n",
    "- A value estimated by algorithms or ML models like KNN.\n",
    "\n",
    "> More detailed imputation techniques in this [article](https://towardsdatascience.com/6-different-ways-to-compensate-for-missing-values-data-imputation-with-examples-6022d9ca0779)  "
   ]
  },
  {
   "cell_type": "markdown",
   "metadata": {
    "id": "-D2-91B8F89Z"
   },
   "source": [
    "##### Imputing manually with pandas fillna"
   ]
  },
  {
   "cell_type": "code",
   "execution_count": null,
   "metadata": {
    "colab": {
     "base_uri": "https://localhost:8080/"
    },
    "id": "r6W_-LfYpYud",
    "outputId": "d54ad18e-0fe3-4727-80aa-f4a593731105"
   },
   "outputs": [],
   "source": [
    "df['reviews_per_month'].head(3)"
   ]
  },
  {
   "cell_type": "code",
   "execution_count": null,
   "metadata": {
    "colab": {
     "base_uri": "https://localhost:8080/"
    },
    "id": "ZGBTxmgFpVqm",
    "outputId": "daa56219-2f54-4275-fad7-39db6f53b5eb"
   },
   "outputs": [],
   "source": [
    "df['listing_name'].head(3)"
   ]
  },
  {
   "cell_type": "code",
   "execution_count": null,
   "metadata": {
    "colab": {
     "base_uri": "https://localhost:8080/"
    },
    "id": "49AIRebyFW4-",
    "outputId": "4543b8e9-dd5a-4f88-a715-079edcf080bc"
   },
   "outputs": [],
   "source": [
    "# {\"column_name\" : \"value_to_replace\"}\n",
    "missing_vals_replace = {'reviews_per_month': 0,\n",
    "                        'listing_name':'None'}\n",
    "\n",
    "df.fillna(value = missing_vals_replace).head(3)['reviews_per_month']"
   ]
  },
  {
   "cell_type": "code",
   "execution_count": null,
   "metadata": {
    "colab": {
     "base_uri": "https://localhost:8080/"
    },
    "id": "QP1jjR-dvxNX",
    "outputId": "6344bcf0-1b1d-4cd3-bfee-9a52d1bb8ac4"
   },
   "outputs": [],
   "source": [
    "# mean of reviews_per_month\n",
    "reviews_mean = df['reviews_per_month'].mean()\n",
    "print(reviews_mean)\n",
    "\n",
    "df.fillna(value = {'reviews_per_month' : reviews_mean}).head(3)['reviews_per_month']"
   ]
  },
  {
   "cell_type": "code",
   "execution_count": null,
   "metadata": {
    "colab": {
     "base_uri": "https://localhost:8080/"
    },
    "id": "GxIZSbBAwNNS",
    "outputId": "a5e2d7cc-f044-4921-fef3-6fc1eef96edb"
   },
   "outputs": [],
   "source": [
    "# median of reviews_per_month\n",
    "reviews_median = df['reviews_per_month'].median()\n",
    "print(reviews_median)\n",
    "\n",
    "df.fillna(value = {'reviews_per_month' : reviews_median}).head(3)['reviews_per_month']"
   ]
  },
  {
   "cell_type": "markdown",
   "metadata": {
    "id": "RnHolWGVF_7Q"
   },
   "source": [
    "##### Imputing with bfill and ffill\n",
    "\n",
    "bfill\n",
    "- bfill stands for backwards fill\n",
    "- means filling in missing value with value after it (fill it backwards)\n",
    "\n",
    "ffill\n",
    "- ffill stands for forward fill\n",
    "- means filling in missing value with value before it (fill it forwards)\n"
   ]
  },
  {
   "cell_type": "code",
   "execution_count": null,
   "metadata": {
    "colab": {
     "base_uri": "https://localhost:8080/"
    },
    "id": "OG7XJpVM3e3F",
    "outputId": "43538a6b-1f6a-486b-f4fe-8a1b36dca113"
   },
   "outputs": [],
   "source": [
    "df['reviews_per_month'].head()"
   ]
  },
  {
   "cell_type": "code",
   "execution_count": null,
   "metadata": {
    "colab": {
     "base_uri": "https://localhost:8080/"
    },
    "id": "XEDzyORYGdwc",
    "outputId": "306492c8-faaf-4377-9b31-5339e56e70f4"
   },
   "outputs": [],
   "source": [
    "# imputing with bfill\n",
    "df['reviews_per_month'].bfill().head()"
   ]
  },
  {
   "cell_type": "code",
   "execution_count": null,
   "metadata": {
    "colab": {
     "base_uri": "https://localhost:8080/"
    },
    "id": "Rx8X58MTxeGa",
    "outputId": "9cc289f0-225c-41f7-fe90-e43f9268f764"
   },
   "outputs": [],
   "source": [
    "# imputing with ffill\n",
    "df['reviews_per_month'].ffill().head()"
   ]
  },
  {
   "cell_type": "code",
   "execution_count": null,
   "metadata": {
    "colab": {
     "base_uri": "https://localhost:8080/"
    },
    "id": "3DsEn64K4Fw6",
    "outputId": "1cfec98d-2971-46cb-e21e-e7297284d1b8"
   },
   "outputs": [],
   "source": [
    "df['last_review'].head()"
   ]
  },
  {
   "cell_type": "code",
   "execution_count": null,
   "metadata": {
    "colab": {
     "base_uri": "https://localhost:8080/"
    },
    "id": "L56VXmBR4Cy3",
    "outputId": "35ea5dcc-3318-4011-a048-b3aee695e319"
   },
   "outputs": [],
   "source": [
    "df['last_review'].ffill().head()"
   ]
  },
  {
   "cell_type": "code",
   "execution_count": null,
   "metadata": {
    "colab": {
     "base_uri": "https://localhost:8080/",
     "height": 264
    },
    "id": "1jVYer4q3yQ2",
    "outputId": "b0efb1da-a7ce-4776-d8ab-e008da5ed1c2"
   },
   "outputs": [],
   "source": [
    " # ffill entire data frame\n",
    " df.ffill().head(3)"
   ]
  },
  {
   "cell_type": "code",
   "execution_count": null,
   "metadata": {
    "colab": {
     "base_uri": "https://localhost:8080/"
    },
    "id": "MNsDy7BQ8G2B",
    "outputId": "80a27c72-8d91-4659-a0d9-bf6405037a96"
   },
   "outputs": [],
   "source": [
    "missing_vals_replace = {'reviews_per_month':0,\n",
    "                        'listing_name':'None'}\n",
    "\n",
    "df.fillna(missing_vals_replace, inplace = True)\n",
    "\n",
    "missing_cols(df)"
   ]
  },
  {
   "cell_type": "markdown",
   "metadata": {
    "id": "MDgdfoxEZz7c"
   },
   "source": [
    "I leave date column empty because it makes more sense to leave it empty, and I don't want to introduce bias to it. this is a different case for time series data, as it's a must to impute missing values or analysis on the data won't work since it's cumulative"
   ]
  },
  {
   "cell_type": "markdown",
   "metadata": {
    "id": "5WrQ12BDFTh0"
   },
   "source": [
    "## Explode Date column"
   ]
  },
  {
   "cell_type": "code",
   "execution_count": null,
   "metadata": {
    "colab": {
     "base_uri": "https://localhost:8080/"
    },
    "id": "qqlorLHyFU24",
    "outputId": "284ea66e-bb5b-40b3-e307-0de3aba54169"
   },
   "outputs": [],
   "source": [
    "df['last_review'].head()"
   ]
  },
  {
   "cell_type": "code",
   "execution_count": null,
   "metadata": {
    "id": "mqt3bKAvC4wf"
   },
   "outputs": [],
   "source": [
    "# Int64 are pandas data types that can handle missing values\n",
    "df['year'] = df['last_review'].dt.year.astype('Int64')\n",
    "df['month'] = df['last_review'].dt.month.astype('Int64')\n",
    "df['day'] = df['last_review'].dt.day.astype('Int64')"
   ]
  },
  {
   "cell_type": "code",
   "execution_count": null,
   "metadata": {
    "colab": {
     "base_uri": "https://localhost:8080/",
     "height": 264
    },
    "id": "b8aHeHpxC5JG",
    "outputId": "39b5019f-c8a6-48fc-d62e-cbf3b5454a0c"
   },
   "outputs": [],
   "source": [
    "df.head(3)"
   ]
  },
  {
   "cell_type": "markdown",
   "metadata": {
    "id": "HlW5jIRlpP94"
   },
   "source": [
    "## Data Inconsistencies"
   ]
  },
  {
   "cell_type": "markdown",
   "metadata": {
    "id": "y-3wzMUizrNk"
   },
   "source": [
    "### out of range data"
   ]
  },
  {
   "cell_type": "markdown",
   "metadata": {
    "id": "gw3cxFoAE5vN"
   },
   "source": [
    "#### Are the values in the column `availability_365` within 365 ?"
   ]
  },
  {
   "cell_type": "code",
   "execution_count": null,
   "metadata": {
    "colab": {
     "base_uri": "https://localhost:8080/"
    },
    "id": "d61QIuo_EIIs",
    "outputId": "063e2270-0eed-408f-c946-c44c21003943"
   },
   "outputs": [],
   "source": [
    "# show statistics of a column\n",
    "df['availability_365'].describe()"
   ]
  },
  {
   "cell_type": "markdown",
   "metadata": {
    "id": "k1WsQak9p07G"
   },
   "source": [
    "##### Assert keyword"
   ]
  },
  {
   "cell_type": "code",
   "execution_count": null,
   "metadata": {
    "id": "CThHaPSKyPz3"
   },
   "outputs": [],
   "source": [
    "assert 1 + 1 == 2"
   ]
  },
  {
   "cell_type": "code",
   "execution_count": null,
   "metadata": {
    "colab": {
     "base_uri": "https://localhost:8080/",
     "height": 169
    },
    "id": "nGswVZYLycK1",
    "outputId": "248d4f18-857c-4eb9-e4c2-764288d436e1"
   },
   "outputs": [],
   "source": [
    "assert 1 + 1 == 3"
   ]
  },
  {
   "cell_type": "code",
   "execution_count": null,
   "metadata": {
    "id": "Mx4pJDv5EgZx"
   },
   "outputs": [],
   "source": [
    "assert df['availability_365'].max() <= 365"
   ]
  },
  {
   "cell_type": "code",
   "execution_count": null,
   "metadata": {
    "id": "fL8C8dp7x3iK"
   },
   "outputs": [],
   "source": [
    "assert df['availability_365'].min() >= 0"
   ]
  },
  {
   "cell_type": "markdown",
   "metadata": {
    "id": "MynRqMVPE2jm"
   },
   "source": [
    "#### Are lat and long coords valid coordinates?\n",
    "\n",
    "- The latitude must be a number between -90 and 90 and the longitude between -180 and 180\n",
    "\n",
    "Since you know the lat and long coords are for new york, you can ask the question whether the coords are within NYC itself"
   ]
  },
  {
   "cell_type": "code",
   "execution_count": null,
   "metadata": {
    "colab": {
     "base_uri": "https://localhost:8080/"
    },
    "id": "aHpgiaG5EtJI",
    "outputId": "3faa323e-c731-468e-a7e1-aee4d528618e"
   },
   "outputs": [],
   "source": [
    "df['lat'].describe()"
   ]
  },
  {
   "cell_type": "code",
   "execution_count": null,
   "metadata": {
    "colab": {
     "base_uri": "https://localhost:8080/"
    },
    "id": "-6DS2up7EyVL",
    "outputId": "8932b2a5-22ae-4f49-d2b6-2e686ee495d3"
   },
   "outputs": [],
   "source": [
    "df['long'].describe()"
   ]
  },
  {
   "cell_type": "markdown",
   "metadata": {
    "id": "GlfmZvrSFX2g"
   },
   "source": [
    "The best way to make sure is to plot them out\n",
    "\n",
    "Check out this [kaggle notebook](https://www.kaggle.com/dgomonov/data-exploration-on-nyc-airbnb/notebook) which does an analysis including plotting a new york city map containing these coordinates"
   ]
  },
  {
   "cell_type": "markdown",
   "metadata": {
    "id": "187ZH4tkzjO1"
   },
   "source": [
    "### Categorical data inconsistency\n",
    "\n",
    "- caused by human error (wrong spelling, different case categories)"
   ]
  },
  {
   "cell_type": "code",
   "execution_count": null,
   "metadata": {
    "colab": {
     "base_uri": "https://localhost:8080/"
    },
    "id": "zYlP3mKFFi8R",
    "outputId": "4cd84cd2-d5ae-4098-dec3-0fd5438309da"
   },
   "outputs": [],
   "source": [
    "# show categories\n",
    "df['neighbourhood_group'].unique()"
   ]
  },
  {
   "cell_type": "code",
   "execution_count": null,
   "metadata": {
    "colab": {
     "base_uri": "https://localhost:8080/"
    },
    "id": "0itOIHybFuDV",
    "outputId": "3bb98faf-feda-4a82-fcbe-88f44a2b37e1"
   },
   "outputs": [],
   "source": [
    "wrong_spelling = ['brookln', 'manhatan']\n",
    "right_spelling = ['Brooklyn', 'Manhattan']\n",
    "\n",
    "# replace the wrong spelling with right spelling\n",
    "df['neighbourhood_group'].replace(to_replace = wrong_spelling, \n",
    "                                  value = right_spelling, \n",
    "                                  inplace = True)\n",
    "\n",
    "# changing values removes the category date type\n",
    "df['neighbourhood_group'].unique()"
   ]
  },
  {
   "cell_type": "markdown",
   "metadata": {
    "id": "Cfda1EoxGX5f"
   },
   "source": [
    "Usually it isn't so easy to deal with these value consistency since there could be hundreds of categories like the neighborhood column which has over 200 types, there are two ways to deal with this issue\n",
    "\n",
    "1. Preprocess the text (lowercase, strip whitespace)\n",
    "1. Use fuzzy matching to find similar words, and replace them. ([example](https://www.kaggle.com/rtatman/data-cleaning-challenge-inconsistent-data-entry/?scriptVersionId=3012975&cellId=14))"
   ]
  },
  {
   "cell_type": "markdown",
   "metadata": {
    "id": "6AbUg11Czf4N"
   },
   "source": [
    "### Duplicate rows"
   ]
  },
  {
   "cell_type": "code",
   "execution_count": null,
   "metadata": {
    "colab": {
     "base_uri": "https://localhost:8080/"
    },
    "id": "MMoaHQzVFvTJ",
    "outputId": "7d7cca70-d8ea-482c-8d08-7b5cade820c5"
   },
   "outputs": [],
   "source": [
    "# are there any duplicate rows?\n",
    "df.duplicated().any()"
   ]
  },
  {
   "cell_type": "code",
   "execution_count": null,
   "metadata": {
    "colab": {
     "base_uri": "https://localhost:8080/"
    },
    "id": "FOgQDNd31Pic",
    "outputId": "904b0785-0d13-4364-9f05-062a2a1ee078"
   },
   "outputs": [],
   "source": [
    "# how many rows are duplicated?\n",
    "df.duplicated().sum()"
   ]
  },
  {
   "cell_type": "code",
   "execution_count": null,
   "metadata": {
    "colab": {
     "base_uri": "https://localhost:8080/",
     "height": 117
    },
    "id": "WnSpnT3LHqCX",
    "outputId": "22073972-f5ae-4a19-e043-097ce223f9fc"
   },
   "outputs": [],
   "source": [
    "# show me the duplicated row\n",
    "df[df.duplicated()]"
   ]
  },
  {
   "cell_type": "code",
   "execution_count": null,
   "metadata": {
    "id": "ZXrYdnkLH7cH"
   },
   "outputs": [],
   "source": [
    "df.drop_duplicates(inplace = True)"
   ]
  },
  {
   "cell_type": "code",
   "execution_count": null,
   "metadata": {
    "colab": {
     "base_uri": "https://localhost:8080/"
    },
    "id": "zxGOl13bH9r5",
    "outputId": "340e0560-98ee-4df2-903c-dcb3d055afe5"
   },
   "outputs": [],
   "source": [
    "df.duplicated().any()"
   ]
  },
  {
   "cell_type": "markdown",
   "metadata": {
    "id": "i1NjHgTqGcDW"
   },
   "source": [
    "## Outliers\n",
    "\n",
    "What?\n",
    "- data point that is far from other observations in our data\n",
    "- it arises from to erorrs in data collection or due to the influence of various factors on data\n",
    "- when there are outliers which indicates erroneous or abnormal data then we can either remove them or correct them.\n",
    "\n",
    "How to detect?\n",
    "- with boxplots and histograms\n",
    "- statistical methods like IQR, skewness, etc.\n",
    "\n",
    "> To choose the best way to handle outliers one must have a good domain knowledge and information about where the data come from and what they mean ; it also depends on what analysis one is planning to perform.\n",
    "\n",
    "More about data cleaning and outliers\n",
    "- https://www.pluralsight.com/guides/cleaning-up-data-from-outliers\n",
    "- https://towardsdatascience.com/ways-to-detect-and-remove-the-outliers-404d16608dba \n",
    "- https://www.kaggle.com/rtatman/data-cleaning-challenge-scale-and-normalize-data\n",
    "- https://aakada.wordpress.com/2019/02/24/how-to-deal-with-outliers-using-python-pandas/"
   ]
  },
  {
   "cell_type": "markdown",
   "metadata": {
    "id": "Ic6LsF6SK7ZH"
   },
   "source": [
    "### Continuous data"
   ]
  },
  {
   "cell_type": "code",
   "execution_count": null,
   "metadata": {
    "colab": {
     "base_uri": "https://localhost:8080/"
    },
    "id": "GIHKrCTGKme7",
    "outputId": "67b75d67-6e32-414e-dcdf-401addce8143"
   },
   "outputs": [],
   "source": [
    "df['price'].describe()"
   ]
  },
  {
   "cell_type": "markdown",
   "metadata": {
    "id": "UdSu0JmBk4kl"
   },
   "source": [
    "#### plotting a histogram"
   ]
  },
  {
   "cell_type": "code",
   "execution_count": null,
   "metadata": {
    "colab": {
     "base_uri": "https://localhost:8080/",
     "height": 262
    },
    "id": "SXfHX1RlH_YV",
    "outputId": "ea242c1e-f140-44a2-d5b1-f7721bd7342d"
   },
   "outputs": [],
   "source": [
    "df['price'].hist(bins=100);"
   ]
  },
  {
   "cell_type": "markdown",
   "metadata": {
    "id": "RGsZE_VSk7mX"
   },
   "source": [
    "#### Plotting a boxplot\n",
    "\n",
    "![boxplot](https://external-content.duckduckgo.com/iu/?u=https%3A%2F%2Fwww.simplypsychology.org%2Fboxplot-outliers.png&f=1&nofb=1)"
   ]
  },
  {
   "cell_type": "code",
   "execution_count": null,
   "metadata": {
    "colab": {
     "base_uri": "https://localhost:8080/",
     "height": 262
    },
    "id": "w6BhZklcKapy",
    "outputId": "8e5f7da9-d6f4-477e-abf8-8d28e192ab51"
   },
   "outputs": [],
   "source": [
    "df.boxplot(column=['price']);"
   ]
  },
  {
   "cell_type": "markdown",
   "metadata": {
    "id": "mNkP5rDTK_k6"
   },
   "source": [
    "### Categorical data"
   ]
  },
  {
   "cell_type": "code",
   "execution_count": null,
   "metadata": {
    "colab": {
     "base_uri": "https://localhost:8080/"
    },
    "id": "xxEpHiH8LJoR",
    "outputId": "9f1b07da-a984-4c08-80c5-dfbb1fdd280d"
   },
   "outputs": [],
   "source": [
    "df['neighbourhood_group'].unique()"
   ]
  },
  {
   "cell_type": "markdown",
   "metadata": {
    "id": "_iO-gaf8lAXx"
   },
   "source": [
    "#### Plotting a bar plot\n",
    "\n"
   ]
  },
  {
   "cell_type": "code",
   "execution_count": null,
   "metadata": {
    "colab": {
     "base_uri": "https://localhost:8080/"
    },
    "id": "qGLHQVndqlcb",
    "outputId": "2d60c760-0484-49e4-8fe0-352e885ba100"
   },
   "outputs": [],
   "source": [
    "# count of each category\n",
    "df['neighbourhood_group'].value_counts()"
   ]
  },
  {
   "cell_type": "code",
   "execution_count": null,
   "metadata": {
    "colab": {
     "base_uri": "https://localhost:8080/",
     "height": 317
    },
    "id": "boxVhFGHJAiN",
    "outputId": "2a2db6ec-43e5-445b-82ae-18c0b76c3d74"
   },
   "outputs": [],
   "source": [
    "# plot a bar plot from value counts\n",
    "df['neighbourhood_group'].value_counts().plot.bar();"
   ]
  },
  {
   "cell_type": "code",
   "execution_count": null,
   "metadata": {
    "colab": {
     "base_uri": "https://localhost:8080/"
    },
    "id": "P5w1ZdY9K1c8",
    "outputId": "be43d30c-c131-4e70-8713-49e514b76ef5"
   },
   "outputs": [],
   "source": [
    "other_index = df['neighbourhood_group'].value_counts()[2:].index\n",
    "\n",
    "# grab the indexes of the other categories, and tell pandas to change them \n",
    "# to 'Other'\n",
    "df.loc[df['neighbourhood_group'].isin(other_index), 'neighbourhood_group'] = 'Other'\n",
    "\n",
    "df['neighbourhood_group'].value_counts()"
   ]
  },
  {
   "cell_type": "code",
   "execution_count": null,
   "metadata": {
    "colab": {
     "base_uri": "https://localhost:8080/",
     "height": 306
    },
    "id": "C8XR5J-vM6vM",
    "outputId": "7b0e6948-e453-48f5-f60b-6d1c7cd144ab"
   },
   "outputs": [],
   "source": [
    "df['neighbourhood_group'].value_counts().plot.bar();"
   ]
  },
  {
   "cell_type": "code",
   "execution_count": null,
   "metadata": {
    "id": "bV_Yq2ELq8WQ"
   },
   "outputs": [],
   "source": [
    "df['neighbourhood_group'] = df['neighbourhood_group'].astype('category')"
   ]
  },
  {
   "cell_type": "markdown",
   "metadata": {
    "id": "Vjdr-1ucvVE3"
   },
   "source": [
    "## Save final cleaned dataset"
   ]
  },
  {
   "cell_type": "code",
   "execution_count": null,
   "metadata": {
    "id": "Xl8rTrkZvVw9"
   },
   "outputs": [],
   "source": [
    "df.to_csv(\"clean_data\")"
   ]
  },
  {
   "cell_type": "code",
   "execution_count": null,
   "metadata": {
    "id": "Rnly-n_lePhH"
   },
   "outputs": [],
   "source": []
  }
 ],
 "metadata": {
  "colab": {
   "collapsed_sections": [],
   "provenance": []
  },
  "kernelspec": {
   "display_name": "Python 3 (ipykernel)",
   "language": "python",
   "name": "python3"
  },
  "language_info": {
   "codemirror_mode": {
    "name": "ipython",
    "version": 3
   },
   "file_extension": ".py",
   "mimetype": "text/x-python",
   "name": "python",
   "nbconvert_exporter": "python",
   "pygments_lexer": "ipython3",
   "version": "3.8.12"
  }
 },
 "nbformat": 4,
 "nbformat_minor": 4
}
